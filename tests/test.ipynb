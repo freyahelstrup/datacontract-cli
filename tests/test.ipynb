{
 "cells": [
  {
   "cell_type": "code",
   "execution_count": 1,
   "metadata": {},
   "outputs": [],
   "source": [
    "# Logging setup\n",
    "import logging\n",
    "defaultLogger = logging.getLogger('default')\n",
    "defaultLogger.setLevel(logging.DEBUG)\n",
    "\n",
    "# Logging examples\n",
    "# defaultLogger.debug(\"default debug message\")\n",
    "# defaultLogger.info(\"default info message\")\n",
    "# defaultLogger.warning(\"default warning message\")\n",
    "# defaultLogger.error(\"default error message\")\n",
    "# defaultLogger.critical(\"default critical message\")"
   ]
  },
  {
   "cell_type": "code",
   "execution_count": 2,
   "metadata": {},
   "outputs": [],
   "source": [
    "# Read data\n",
    "from pyspark import sql\n",
    "\n",
    "spark = (\n",
    "    sql.SparkSession.builder\n",
    "        .appName(\"Data Contract Test\")\n",
    "        .getOrCreate()\n",
    "\n",
    ")\n",
    "\n",
    "path = 'examples/spark/data/demographics.csv' #'abfss://covid@staadpstaginglakefrey.dfs.core.windows.net/raw/demographics.csv'\n",
    "schema = spark.read \\\n",
    "            .format(\"csv\") \\\n",
    "            .option(\"header\", True) \\\n",
    "            .option(\"inferSchema\", True) \\\n",
    "            .load(path) \\\n",
    "            .limit(10) \\\n",
    "            .schema\n",
    "df = spark.read \\\n",
    "            .format(\"csv\") \\\n",
    "            .option(\"header\", True) \\\n",
    "            .schema(schema) \\\n",
    "            .load(path) \n",
    "\n",
    "defaultLogger.debug(f\"Schema: {df.schema}\")"
   ]
  },
  {
   "cell_type": "code",
   "execution_count": 8,
   "metadata": {},
   "outputs": [],
   "source": [
    "from datacontract.data_contract import DataContract\n",
    "\n",
    "dataset_name = \"demographics\"\n",
    "\n",
    "# Create a view\n",
    "df.createOrReplaceTempView(dataset_name)\n",
    "\n",
    "# Specify data contract\n",
    "data_contract_str = f\"\"\"\n",
    "dataContractSpecification: 0.9.2\n",
    "id: adp:datacontract:covid:demographics\n",
    "info:\n",
    "  title: Demographics\n",
    "  version: 1.0.0\n",
    "  description: Information related to the population demographics for each region.    \n",
    "  owner: Google\n",
    "  contact:\n",
    "    name: Freya\n",
    "servers:\n",
    "  production:\n",
    "    type: databricks\n",
    "    host: {path}\n",
    "    catalog: none\n",
    "    schema: none\n",
    "models:\n",
    "  {dataset_name}: # corresponds to a table\n",
    "    type: table\n",
    "    fields: \n",
    "      location_key:\n",
    "        type: string\n",
    "        description: Unique string identifying the region\n",
    "        required: true\n",
    "        unique: true\n",
    "      population:\n",
    "        type: integer\n",
    "        description: Total count of humans\n",
    "        required: true\n",
    "        minimum: 0\n",
    "      population_male:\n",
    "        type: integer\n",
    "        description: Total count of males\n",
    "        required: true\n",
    "        minimum: 0\n",
    "      population_female:\n",
    "        type: integer\n",
    "        description: Total count of females\n",
    "        required: true\n",
    "        minimum: 0\n",
    "      human_development_index:\n",
    "        type: double\n",
    "        description: Composite index of life expectancy, education, and per capita income indicators\n",
    "        required: true\n",
    "        minimum: 0\n",
    "        maximum: 1\n",
    "\"\"\"\n",
    "\n",
    "data_contract = DataContract(\n",
    "  data_contract_str=data_contract_str, \n",
    "  spark=spark)"
   ]
  },
  {
   "cell_type": "code",
   "execution_count": 9,
   "metadata": {},
   "outputs": [
    {
     "name": "stderr",
     "output_type": "stream",
     "text": [
      "INFO:default:Run result: failed\n"
     ]
    }
   ],
   "source": [
    "# Test data contract\n",
    "run = data_contract.test()\n",
    "defaultLogger.info(f\"Run result: {run.result}\")"
   ]
  },
  {
   "cell_type": "code",
   "execution_count": 10,
   "metadata": {},
   "outputs": [
    {
     "data": {
      "text/html": [
       "<pre style=\"white-space:pre;overflow-x:auto;line-height:normal;font-family:Menlo,'DejaVu Sans Mono',consolas,'Courier New',monospace\">🔴 data contract is invalid. Run <span style=\"color: #008080; text-decoration-color: #008080; font-weight: bold\">21</span> checks. Took <span style=\"color: #008080; text-decoration-color: #008080; font-weight: bold\">2.134892</span> seconds.\n",
       "</pre>\n"
      ],
      "text/plain": [
       "🔴 data contract is invalid. Run \u001b[1;36m21\u001b[0m checks. Took \u001b[1;36m2.134892\u001b[0m seconds.\n"
      ]
     },
     "metadata": {},
     "output_type": "display_data"
    },
    {
     "data": {
      "text/html": [
       "<pre style=\"white-space:pre;overflow-x:auto;line-height:normal;font-family:Menlo,'DejaVu Sans Mono',consolas,'Courier New',monospace\">╭────────┬────────────────────────────────────────────────────────────────────┬─────────────────────────┬─────────╮\n",
       "│<span style=\"font-weight: bold\"> Result </span>│<span style=\"font-weight: bold\"> Check                                                              </span>│<span style=\"font-weight: bold\"> Field                   </span>│<span style=\"font-weight: bold\"> Details </span>│\n",
       "├────────┼────────────────────────────────────────────────────────────────────┼─────────────────────────┼─────────┤\n",
       "│ <span style=\"color: #008000; text-decoration-color: #008000\">passed</span> │ Check that field location_key is present                           │                         │         │\n",
       "│ <span style=\"color: #008000; text-decoration-color: #008000\">passed</span> │ Check that field location_key has type string                      │                         │         │\n",
       "│ <span style=\"color: #008000; text-decoration-color: #008000\">passed</span> │ Check that field population is present                             │                         │         │\n",
       "│ <span style=\"color: #008000; text-decoration-color: #008000\">passed</span> │ Check that field population has type integer                       │                         │         │\n",
       "│ <span style=\"color: #008000; text-decoration-color: #008000\">passed</span> │ Check that field population_male is present                        │                         │         │\n",
       "│ <span style=\"color: #008000; text-decoration-color: #008000\">passed</span> │ Check that field population_male has type integer                  │                         │         │\n",
       "│ <span style=\"color: #008000; text-decoration-color: #008000\">passed</span> │ Check that field population_female is present                      │                         │         │\n",
       "│ <span style=\"color: #008000; text-decoration-color: #008000\">passed</span> │ Check that field population_female has type integer                │                         │         │\n",
       "│ <span style=\"color: #008000; text-decoration-color: #008000\">passed</span> │ Check that field human_development_index is present                │                         │         │\n",
       "│ <span style=\"color: #008000; text-decoration-color: #008000\">passed</span> │ Check that field human_development_index has type double           │                         │         │\n",
       "│ <span style=\"color: #008000; text-decoration-color: #008000\">passed</span> │ Check that required field location_key has no null values          │ location_key            │         │\n",
       "│ <span style=\"color: #008000; text-decoration-color: #008000\">passed</span> │ Check that unique field location_key has no duplicate values       │ location_key            │         │\n",
       "│ <span style=\"color: #800000; text-decoration-color: #800000\">failed</span> │ Check that required field population has no null values            │ population              │         │\n",
       "│ <span style=\"color: #800000; text-decoration-color: #800000\">failed</span> │ Check that field population has only values &gt; 0                    │ population              │         │\n",
       "│ <span style=\"color: #800000; text-decoration-color: #800000\">failed</span> │ Check that required field population_male has no null values       │ population_male         │         │\n",
       "│ <span style=\"color: #008000; text-decoration-color: #008000\">passed</span> │ Check that field population_male has only values &gt;= 0              │ population_male         │         │\n",
       "│ <span style=\"color: #800000; text-decoration-color: #800000\">failed</span> │ Check that required field population_female has no null values     │ population_female       │         │\n",
       "│ <span style=\"color: #008000; text-decoration-color: #008000\">passed</span> │ Check that field population_female has only values &gt;= 0            │ population_female       │         │\n",
       "│ <span style=\"color: #800000; text-decoration-color: #800000\">failed</span> │ Check that required field human_development_index has no null      │ human_development_index │         │\n",
       "│        │ values                                                             │                         │         │\n",
       "│ <span style=\"color: #008000; text-decoration-color: #008000\">passed</span> │ Check that field human_development_index has only values &gt;= 0      │ human_development_index │         │\n",
       "│ <span style=\"color: #800000; text-decoration-color: #800000\">failed</span> │ Check that field human_development_index has only values &lt; 1       │ human_development_index │         │\n",
       "╰────────┴────────────────────────────────────────────────────────────────────┴─────────────────────────┴─────────╯\n",
       "</pre>\n"
      ],
      "text/plain": [
       "╭────────┬────────────────────────────────────────────────────────────────────┬─────────────────────────┬─────────╮\n",
       "│\u001b[1m \u001b[0m\u001b[1mResult\u001b[0m\u001b[1m \u001b[0m│\u001b[1m \u001b[0m\u001b[1mCheck                                                             \u001b[0m\u001b[1m \u001b[0m│\u001b[1m \u001b[0m\u001b[1mField                  \u001b[0m\u001b[1m \u001b[0m│\u001b[1m \u001b[0m\u001b[1mDetails\u001b[0m\u001b[1m \u001b[0m│\n",
       "├────────┼────────────────────────────────────────────────────────────────────┼─────────────────────────┼─────────┤\n",
       "│ \u001b[32mpassed\u001b[0m │ Check that field location_key is present                           │                         │         │\n",
       "│ \u001b[32mpassed\u001b[0m │ Check that field location_key has type string                      │                         │         │\n",
       "│ \u001b[32mpassed\u001b[0m │ Check that field population is present                             │                         │         │\n",
       "│ \u001b[32mpassed\u001b[0m │ Check that field population has type integer                       │                         │         │\n",
       "│ \u001b[32mpassed\u001b[0m │ Check that field population_male is present                        │                         │         │\n",
       "│ \u001b[32mpassed\u001b[0m │ Check that field population_male has type integer                  │                         │         │\n",
       "│ \u001b[32mpassed\u001b[0m │ Check that field population_female is present                      │                         │         │\n",
       "│ \u001b[32mpassed\u001b[0m │ Check that field population_female has type integer                │                         │         │\n",
       "│ \u001b[32mpassed\u001b[0m │ Check that field human_development_index is present                │                         │         │\n",
       "│ \u001b[32mpassed\u001b[0m │ Check that field human_development_index has type double           │                         │         │\n",
       "│ \u001b[32mpassed\u001b[0m │ Check that required field location_key has no null values          │ location_key            │         │\n",
       "│ \u001b[32mpassed\u001b[0m │ Check that unique field location_key has no duplicate values       │ location_key            │         │\n",
       "│ \u001b[31mfailed\u001b[0m │ Check that required field population has no null values            │ population              │         │\n",
       "│ \u001b[31mfailed\u001b[0m │ Check that field population has only values > 0                    │ population              │         │\n",
       "│ \u001b[31mfailed\u001b[0m │ Check that required field population_male has no null values       │ population_male         │         │\n",
       "│ \u001b[32mpassed\u001b[0m │ Check that field population_male has only values >= 0              │ population_male         │         │\n",
       "│ \u001b[31mfailed\u001b[0m │ Check that required field population_female has no null values     │ population_female       │         │\n",
       "│ \u001b[32mpassed\u001b[0m │ Check that field population_female has only values >= 0            │ population_female       │         │\n",
       "│ \u001b[31mfailed\u001b[0m │ Check that required field human_development_index has no null      │ human_development_index │         │\n",
       "│        │ values                                                             │                         │         │\n",
       "│ \u001b[32mpassed\u001b[0m │ Check that field human_development_index has only values >= 0      │ human_development_index │         │\n",
       "│ \u001b[31mfailed\u001b[0m │ Check that field human_development_index has only values < 1       │ human_development_index │         │\n",
       "╰────────┴────────────────────────────────────────────────────────────────────┴─────────────────────────┴─────────╯\n"
      ]
     },
     "metadata": {},
     "output_type": "display_data"
    },
    {
     "name": "stderr",
     "output_type": "stream",
     "text": [
      "INFO:default:None\n",
      "DEBUG:default:runId=UUID('00bb3e79-21d3-4756-bd76-0d7539bc8083') dataContractId='adp:datacontract:covid:demographics' dataContractVersion='1.0.0' dataProductId=None outputPortId=None server='production' timestampStart=datetime.datetime(2024, 3, 19, 13, 47, 14, 491919, tzinfo=datetime.timezone.utc) timestampEnd=datetime.datetime(2024, 3, 19, 13, 47, 16, 626811, tzinfo=datetime.timezone.utc) result='failed' checks=[Check(type='schema', name='Check that field location_key is present', result='passed', engine='soda-core', reason='', model='demographics', field=None, details=None), Check(type='schema', name='Check that field location_key has type string', result='passed', engine='soda-core', reason='', model='demographics', field=None, details=None), Check(type='schema', name='Check that field population is present', result='passed', engine='soda-core', reason='', model='demographics', field=None, details=None), Check(type='schema', name='Check that field population has type integer', result='passed', engine='soda-core', reason='', model='demographics', field=None, details=None), Check(type='schema', name='Check that field population_male is present', result='passed', engine='soda-core', reason='', model='demographics', field=None, details=None), Check(type='schema', name='Check that field population_male has type integer', result='passed', engine='soda-core', reason='', model='demographics', field=None, details=None), Check(type='schema', name='Check that field population_female is present', result='passed', engine='soda-core', reason='', model='demographics', field=None, details=None), Check(type='schema', name='Check that field population_female has type integer', result='passed', engine='soda-core', reason='', model='demographics', field=None, details=None), Check(type='schema', name='Check that field human_development_index is present', result='passed', engine='soda-core', reason='', model='demographics', field=None, details=None), Check(type='schema', name='Check that field human_development_index has type double', result='passed', engine='soda-core', reason='', model='demographics', field=None, details=None), Check(type='schema', name='Check that required field location_key has no null values', result='passed', engine='soda-core', reason='', model='demographics', field='location_key', details=None), Check(type='schema', name='Check that unique field location_key has no duplicate values', result='passed', engine='soda-core', reason='', model='demographics', field='location_key', details=None), Check(type='schema', name='Check that required field population has no null values', result='failed', engine='soda-core', reason='', model='demographics', field='population', details=None), Check(type='schema', name='Check that field population has only values > 0', result='failed', engine='soda-core', reason='', model='demographics', field='population', details=None), Check(type='schema', name='Check that required field population_male has no null values', result='failed', engine='soda-core', reason='', model='demographics', field='population_male', details=None), Check(type='schema', name='Check that field population_male has only values >= 0', result='passed', engine='soda-core', reason='', model='demographics', field='population_male', details=None), Check(type='schema', name='Check that required field population_female has no null values', result='failed', engine='soda-core', reason='', model='demographics', field='population_female', details=None), Check(type='schema', name='Check that field population_female has only values >= 0', result='passed', engine='soda-core', reason='', model='demographics', field='population_female', details=None), Check(type='schema', name='Check that required field human_development_index has no null values', result='failed', engine='soda-core', reason='', model='demographics', field='human_development_index', details=None), Check(type='schema', name='Check that field human_development_index has only values >= 0', result='passed', engine='soda-core', reason='', model='demographics', field='human_development_index', details=None), Check(type='schema', name='Check that field human_development_index has only values < 1', result='failed', engine='soda-core', reason='', model='demographics', field='human_development_index', details=None)] logs=[Log(level='INFO', message='Testing data contract', timestamp=datetime.datetime(2024, 3, 19, 13, 47, 14, 491919, tzinfo=datetime.timezone.utc)), Log(level='INFO', message='Running tests for data contract adp:datacontract:covid:demographics with server production', timestamp=datetime.datetime(2024, 3, 19, 13, 47, 15, 116458, tzinfo=datetime.timezone.utc)), Log(level='INFO', message='Running engine soda-core', timestamp=datetime.datetime(2024, 3, 19, 13, 47, 15, 116458, tzinfo=datetime.timezone.utc)), Log(level='INFO', message='Soda Core 3.2.4', timestamp=datetime.datetime(2024, 3, 19, 13, 47, 15, tzinfo=TzInfo(UTC))), Log(level='INFO', message='Using DefaultSampler', timestamp=datetime.datetime(2024, 3, 19, 13, 47, 15, tzinfo=TzInfo(UTC))), Log(level='INFO', message='Using DefaultSampler', timestamp=datetime.datetime(2024, 3, 19, 13, 47, 15, tzinfo=TzInfo(UTC))), Log(level='INFO', message='Using DefaultSampler', timestamp=datetime.datetime(2024, 3, 19, 13, 47, 15, tzinfo=TzInfo(UTC))), Log(level='INFO', message='Using DefaultSampler', timestamp=datetime.datetime(2024, 3, 19, 13, 47, 15, tzinfo=TzInfo(UTC))), Log(level='INFO', message='Scan summary:', timestamp=datetime.datetime(2024, 3, 19, 13, 47, 16, tzinfo=TzInfo(UTC))), Log(level='INFO', message='15/21 checks PASSED: ', timestamp=datetime.datetime(2024, 3, 19, 13, 47, 16, tzinfo=TzInfo(UTC))), Log(level='INFO', message='    demographics in databricks', timestamp=datetime.datetime(2024, 3, 19, 13, 47, 16, tzinfo=TzInfo(UTC))), Log(level='INFO', message='      Check that field location_key is present [PASSED]', timestamp=datetime.datetime(2024, 3, 19, 13, 47, 16, tzinfo=TzInfo(UTC))), Log(level='INFO', message='      Check that field location_key has type string [PASSED]', timestamp=datetime.datetime(2024, 3, 19, 13, 47, 16, tzinfo=TzInfo(UTC))), Log(level='INFO', message='      Check that field population is present [PASSED]', timestamp=datetime.datetime(2024, 3, 19, 13, 47, 16, tzinfo=TzInfo(UTC))), Log(level='INFO', message='      Check that field population has type integer [PASSED]', timestamp=datetime.datetime(2024, 3, 19, 13, 47, 16, tzinfo=TzInfo(UTC))), Log(level='INFO', message='      Check that field population_male is present [PASSED]', timestamp=datetime.datetime(2024, 3, 19, 13, 47, 16, tzinfo=TzInfo(UTC))), Log(level='INFO', message='      Check that field population_male has type integer [PASSED]', timestamp=datetime.datetime(2024, 3, 19, 13, 47, 16, tzinfo=TzInfo(UTC))), Log(level='INFO', message='      Check that field population_female is present [PASSED]', timestamp=datetime.datetime(2024, 3, 19, 13, 47, 16, tzinfo=TzInfo(UTC))), Log(level='INFO', message='      Check that field population_female has type integer [PASSED]', timestamp=datetime.datetime(2024, 3, 19, 13, 47, 16, tzinfo=TzInfo(UTC))), Log(level='INFO', message='      Check that field human_development_index is present [PASSED]', timestamp=datetime.datetime(2024, 3, 19, 13, 47, 16, tzinfo=TzInfo(UTC))), Log(level='INFO', message='      Check that field human_development_index has type double [PASSED]', timestamp=datetime.datetime(2024, 3, 19, 13, 47, 16, tzinfo=TzInfo(UTC))), Log(level='INFO', message='      Check that required field location_key has no null values [PASSED]', timestamp=datetime.datetime(2024, 3, 19, 13, 47, 16, tzinfo=TzInfo(UTC))), Log(level='INFO', message='      Check that unique field location_key has no duplicate values [PASSED]', timestamp=datetime.datetime(2024, 3, 19, 13, 47, 16, tzinfo=TzInfo(UTC))), Log(level='INFO', message='      Check that field population_male has only values >= 0 [PASSED]', timestamp=datetime.datetime(2024, 3, 19, 13, 47, 16, tzinfo=TzInfo(UTC))), Log(level='INFO', message='      Check that field population_female has only values >= 0 [PASSED]', timestamp=datetime.datetime(2024, 3, 19, 13, 47, 16, tzinfo=TzInfo(UTC))), Log(level='INFO', message='      Check that field human_development_index has only values >= 0 [PASSED]', timestamp=datetime.datetime(2024, 3, 19, 13, 47, 16, tzinfo=TzInfo(UTC))), Log(level='INFO', message='6/21 checks FAILED: ', timestamp=datetime.datetime(2024, 3, 19, 13, 47, 16, tzinfo=TzInfo(UTC))), Log(level='INFO', message='    demographics in databricks', timestamp=datetime.datetime(2024, 3, 19, 13, 47, 16, tzinfo=TzInfo(UTC))), Log(level='INFO', message='      Check that required field population has no null values [FAILED]', timestamp=datetime.datetime(2024, 3, 19, 13, 47, 16, tzinfo=TzInfo(UTC))), Log(level='INFO', message='        check_value: 30', timestamp=datetime.datetime(2024, 3, 19, 13, 47, 16, tzinfo=TzInfo(UTC))), Log(level='INFO', message='      Check that field population has only values > 0 [FAILED]', timestamp=datetime.datetime(2024, 3, 19, 13, 47, 16, tzinfo=TzInfo(UTC))), Log(level='INFO', message='        check_value: 0', timestamp=datetime.datetime(2024, 3, 19, 13, 47, 16, tzinfo=TzInfo(UTC))), Log(level='INFO', message='      Check that required field population_male has no null values [FAILED]', timestamp=datetime.datetime(2024, 3, 19, 13, 47, 16, tzinfo=TzInfo(UTC))), Log(level='INFO', message='        check_value: 4082', timestamp=datetime.datetime(2024, 3, 19, 13, 47, 16, tzinfo=TzInfo(UTC))), Log(level='INFO', message='      Check that required field population_female has no null values [FAILED]', timestamp=datetime.datetime(2024, 3, 19, 13, 47, 16, tzinfo=TzInfo(UTC))), Log(level='INFO', message='        check_value: 4082', timestamp=datetime.datetime(2024, 3, 19, 13, 47, 16, tzinfo=TzInfo(UTC))), Log(level='INFO', message='      Check that required field human_development_index has no null values [FAILED]', timestamp=datetime.datetime(2024, 3, 19, 13, 47, 16, tzinfo=TzInfo(UTC))), Log(level='INFO', message='        check_value: 15951', timestamp=datetime.datetime(2024, 3, 19, 13, 47, 16, tzinfo=TzInfo(UTC))), Log(level='INFO', message='      Check that field human_development_index has only values < 1 [FAILED]', timestamp=datetime.datetime(2024, 3, 19, 13, 47, 16, tzinfo=TzInfo(UTC))), Log(level='INFO', message='        check_value: 70.91', timestamp=datetime.datetime(2024, 3, 19, 13, 47, 16, tzinfo=TzInfo(UTC))), Log(level='INFO', message='Oops! 6 failures. 0 warnings. 0 errors. 15 pass.', timestamp=datetime.datetime(2024, 3, 19, 13, 47, 16, tzinfo=TzInfo(UTC)))]\n"
     ]
    }
   ],
   "source": [
    "from rich import box\n",
    "from rich import print\n",
    "from rich.table import Table\n",
    "\n",
    "def _handle_result(run):\n",
    "    if run.result == \"passed\":\n",
    "        print(\n",
    "            f\"🟢 data contract is valid. Run {len(run.checks)} checks. Took {(run.timestampEnd - run.timestampStart).total_seconds()} seconds.\")\n",
    "    else:\n",
    "        print(f\"🔴 data contract is invalid. Run {len(run.checks)} checks. Took {(run.timestampEnd - run.timestampStart).total_seconds()} seconds.\")\n",
    "    _print_table(run)\n",
    "\n",
    "def with_markup(result):\n",
    "    if result == \"passed\":\n",
    "        return \"[green]passed[/green]\"\n",
    "    if result == \"warning\":\n",
    "        return \"[yellow]warning[/yellow]\"\n",
    "    if result == \"failed\":\n",
    "        return \"[red]failed[/red]\"\n",
    "    if result == \"error\":\n",
    "        return \"[red]error[/red]\"\n",
    "    return result\n",
    "\n",
    "def to_field(run, check):\n",
    "    models = [c.model for c in run.checks]\n",
    "    if len(set(models)) > 1:\n",
    "        if check.field is None:\n",
    "            return check.model\n",
    "        return check.model + \".\" + check.field\n",
    "    else:\n",
    "        return check.field\n",
    "\n",
    "def _print_table(run):\n",
    "    table = Table(box=box.ROUNDED)\n",
    "    table.add_column(\"Result\", no_wrap=True)\n",
    "    table.add_column(\"Check\", max_width=100)\n",
    "    table.add_column(\"Field\", max_width=32)\n",
    "    table.add_column(\"Details\", max_width=50)\n",
    "    for check in run.checks:\n",
    "        table.add_row(with_markup(check.result), check.name, to_field(run, check), check.reason)\n",
    "    print(table)\n",
    "\n",
    "defaultLogger.info(_handle_result(run))\n",
    "defaultLogger.debug(run)"
   ]
  },
  {
   "cell_type": "code",
   "execution_count": 6,
   "metadata": {},
   "outputs": [
    {
     "name": "stderr",
     "output_type": "stream",
     "text": [
      "INFO:default:Failed checks: [Check(type='schema', name='Check that required field population has no null values', result='failed', engine='soda-core', reason='', model='demographics', field='population', details=None), Check(type='schema', name='Check that required field population_male has no null values', result='failed', engine='soda-core', reason='', model='demographics', field='population_male', details=None), Check(type='schema', name='Check that required field population_female has no null values', result='failed', engine='soda-core', reason='', model='demographics', field='population_female', details=None), Check(type='schema', name='Check that required field human_development_index has no null values', result='failed', engine='soda-core', reason='', model='demographics', field='human_development_index', details=None)]\n"
     ]
    }
   ],
   "source": [
    "# See failed checks\n",
    "failed_checks = [check for check in run.checks if check.result == 'failed']\n",
    "defaultLogger.info(f\"Failed checks: {failed_checks}\")"
   ]
  },
  {
   "cell_type": "code",
   "execution_count": 7,
   "metadata": {},
   "outputs": [
    {
     "ename": "Exception",
     "evalue": "Data contract validation failed",
     "output_type": "error",
     "traceback": [
      "\u001b[1;31m---------------------------------------------------------------------------\u001b[0m",
      "\u001b[1;31mException\u001b[0m                                 Traceback (most recent call last)",
      "Cell \u001b[1;32mIn[7], line 3\u001b[0m\n\u001b[0;32m      1\u001b[0m \u001b[39m# Fail if failed checks\u001b[39;00m\n\u001b[0;32m      2\u001b[0m \u001b[39mif\u001b[39;00m \u001b[39mnot\u001b[39;00m run\u001b[39m.\u001b[39mhas_passed():\n\u001b[1;32m----> 3\u001b[0m     \u001b[39mraise\u001b[39;00m \u001b[39mException\u001b[39;00m(\u001b[39m\"\u001b[39m\u001b[39mData contract validation failed\u001b[39m\u001b[39m\"\u001b[39m)\n",
      "\u001b[1;31mException\u001b[0m: Data contract validation failed"
     ]
    }
   ],
   "source": [
    "# Fail if failed checks\n",
    "if not run.has_passed():\n",
    "    raise Exception(\"Data contract validation failed\")"
   ]
  },
  {
   "cell_type": "code",
   "execution_count": null,
   "metadata": {},
   "outputs": [
    {
     "data": {
      "text/html": [
       "<pre style=\"white-space:pre;overflow-x:auto;line-height:normal;font-family:Menlo,'DejaVu Sans Mono',consolas,'Courier New',monospace\"><span style=\"color: #008080; text-decoration-color: #008080; font-weight: bold\">70.91</span>\n",
       "</pre>\n"
      ],
      "text/plain": [
       "\u001b[1;36m70.91\u001b[0m\n"
      ]
     },
     "metadata": {},
     "output_type": "display_data"
    },
    {
     "name": "stdout",
     "output_type": "stream",
     "text": [
      "+------------+----------+---------------+-----------------+----------------+----------------+-----------------------+--------------------+------------------+-----------------------+--------------------+--------------------+--------------------+--------------------+--------------------+--------------------+--------------------+--------------------+---------------------------+\n",
      "|location_key|population|population_male|population_female|population_rural|population_urban|population_largest_city|population_clustered|population_density|human_development_index|population_age_00_09|population_age_10_19|population_age_20_29|population_age_30_39|population_age_40_49|population_age_50_59|population_age_60_69|population_age_70_79|population_age_80_and_older|\n",
      "+------------+----------+---------------+-----------------+----------------+----------------+-----------------------+--------------------+------------------+-----------------------+--------------------+--------------------+--------------------+--------------------+--------------------+--------------------+--------------------+--------------------+---------------------------+\n",
      "|       ID_KS|   4244096|        2153738|          2090358|            NULL|            NULL|                   NULL|                NULL|              NULL|                  70.91|              809207|              727673|              677066|              671605|              611060|              425852|              218071|               90059|                      13503|\n",
      "+------------+----------+---------------+-----------------+----------------+----------------+-----------------------+--------------------+------------------+-----------------------+--------------------+--------------------+--------------------+--------------------+--------------------+--------------------+--------------------+--------------------+---------------------------+\n",
      "\n"
     ]
    }
   ],
   "source": [
    "# Proof that Human Development Index is 70.91 on one row\n",
    "#max_hdi = df.agg({\"human_development_index\": \"max\"}).collect()[0][0]\n",
    "#print(max_hdi)\n",
    "df_max_hdi = df.where(df.human_development_index > 1.0)\n",
    "df_max_hdi.show()"
   ]
  }
 ],
 "metadata": {
  "kernelspec": {
   "display_name": "venv",
   "language": "python",
   "name": "python3"
  },
  "language_info": {
   "codemirror_mode": {
    "name": "ipython",
    "version": 3
   },
   "file_extension": ".py",
   "mimetype": "text/x-python",
   "name": "python",
   "nbconvert_exporter": "python",
   "pygments_lexer": "ipython3",
   "version": "3.11.8"
  },
  "orig_nbformat": 4
 },
 "nbformat": 4,
 "nbformat_minor": 2
}
